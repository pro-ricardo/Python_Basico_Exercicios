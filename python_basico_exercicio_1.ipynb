{
  "nbformat": 4,
  "nbformat_minor": 0,
  "metadata": {
    "colab": {
      "provenance": [],
      "collapsed_sections": [
        "oDgff3Ygl8aD",
        "Bqyah55glvgv"
      ],
      "authorship_tag": "ABX9TyP1oup1lInTxsELUk3a4esT",
      "include_colab_link": true
    },
    "kernelspec": {
      "name": "python3",
      "display_name": "Python 3"
    },
    "language_info": {
      "name": "python"
    }
  },
  "cells": [
    {
      "cell_type": "markdown",
      "metadata": {
        "id": "view-in-github",
        "colab_type": "text"
      },
      "source": [
        "<a href=\"https://colab.research.google.com/github/pro-ricardo/python_basico_exercicio_1/blob/main/python_basico_exercicio_1.ipynb\" target=\"_parent\"><img src=\"https://colab.research.google.com/assets/colab-badge.svg\" alt=\"Open In Colab\"/></a>"
      ]
    },
    {
      "cell_type": "markdown",
      "source": [
        "# **CÓDIGO DO EXERCÍCIO 1 - PYTHON**"
      ],
      "metadata": {
        "id": "SOqxra4AxRRr"
      }
    },
    {
      "cell_type": "markdown",
      "source": [
        "## **Código Comentado**"
      ],
      "metadata": {
        "id": "oDgff3Ygl8aD"
      }
    },
    {
      "cell_type": "code",
      "source": [
        "# ----------  Importar Bibliotecas e Variáveis Globais --------------#\n",
        "\n",
        "# Importo a biblioteca com o básico para usar data/hora\n",
        "from datetime import datetime\n",
        "\n",
        "# Crio a variável global para ser usada em todo o programa \"historicoOperacoes\"\n",
        "global historicoOperacoes\n",
        "# Crio uma lista vazia nessa variável conforme explicado pra turma\n",
        "historicoOperacoes = list()\n",
        "\n",
        "\n",
        "#------------------------------------------------------------------------#\n",
        "# ------------------------  Funções  ------------------------------------#\n",
        "\n",
        "# Função que verifica se é um número digitado (forço direto o float)\n",
        "def validaNum(valor):\n",
        "    try:\n",
        "        float(valor)\n",
        "        return True\n",
        "    except ValueError:\n",
        "        return False\n",
        "\n",
        "# Função que soma\n",
        "def adicao(a, b):\n",
        "    return a + b\n",
        "\n",
        "# Função que subtrai\n",
        "def subtracao(a, b):\n",
        "    return a - b\n",
        "\n",
        "# Função que multiplica\n",
        "def multiplicacao(a, b):\n",
        "    return a * b\n",
        "\n",
        "# Função que divide\n",
        "def divisao(a, b):\n",
        "    if b == 0:\n",
        "        return \"Erro! Divisão por zero.\"\n",
        "    return a / b\n",
        "\n",
        "# Função que exibe a data e hora no formato padrão americano (sem f)\n",
        "def data():\n",
        "  print(datetime.today())\n",
        "\n",
        "# Função que monta o menu da calculadora\n",
        "def montaMenuCalculadora():\n",
        "    print(\"Operações disponíveis:\")\n",
        "    print(\"1. Adição\")\n",
        "    print(\"2. Subtração\")\n",
        "    print(\"3. Multiplicação\")\n",
        "    print(\"4. Divisão\")\n",
        "    print(\"5. Sair do programa\")\n",
        "\n",
        "# Função que gera a calculadora propriamente dita (detalhar as chamadas pra turma)\n",
        "def calculadora(nome):\n",
        "    montaMenuCalculadora()\n",
        "    escolhaOperacao = input(\"Digite o número da operação desejada: \")\n",
        "\n",
        "    # A opção 5 gera um return, encerrando a função imediatamente\n",
        "    if escolhaOperacao == '5':\n",
        "        return\n",
        "\n",
        "    # Se a opção for inválida, avisa o usuário e re-executa a função principal\n",
        "    elif escolhaOperacao not in ['1', '2', '3', '4']:\n",
        "        print(\"Opção inválida.\")\n",
        "        calculadora()\n",
        "\n",
        "    # Captura o primeiro número e encerra se for inválido, é possível tratar\n",
        "    num1 = input(\"Digite o primeiro número: \")\n",
        "    if not validaNum(num1):\n",
        "        print(\"Você digitou um número inválido! Programa Finalizado!\")\n",
        "        return\n",
        "\n",
        "    # Captura o segundo número e encerra se for inválido, é possível tratar\n",
        "    num2 = input(\"Digite o segundo número: \")\n",
        "    if not validaNum(num2):\n",
        "        print(\"Você digitou um número inválido! Programa Finalizado!\")\n",
        "        return\n",
        "\n",
        "    num1 = float(num1)\n",
        "    num2 = float(num2)\n",
        "\n",
        "    # Calculo de acordo com a opção escolhida no menu\n",
        "    if escolhaOperacao == '1':\n",
        "        resultado = adicao(num1, num2)\n",
        "        # Alimento a lista com as informações sempre na primeira posição para ser exibida ao final em cada ação\n",
        "        historicoOperacoes.insert(0,\"adição(\" + str(num1) + \"|\" + str(num2) + \")=\" + str(resultado) + \"\")\n",
        "    elif escolhaOperacao == '2':\n",
        "        resultado = subtracao(num1, num2)\n",
        "        historicoOperacoes.insert(0,\"subtração(\" + str(num1) + \"|\" + str(num2) + \")=\" + str(resultado) + \"\")\n",
        "    elif escolhaOperacao == '3':\n",
        "        resultado = multiplicacao(num1, num2)\n",
        "        historicoOperacoes.insert(0,\"multiplicação(\" + str(num1) + \"|\" + str(num2) + \")=\" + str(resultado) + \"\")\n",
        "    elif escolhaOperacao == '4':\n",
        "        resultado = divisao(num1, num2)\n",
        "        historicoOperacoes.insert(0,\"divisão(\" + str(num1) + \"|\" + str(num2) + \")=\" + str(resultado) + \"\")\n",
        "\n",
        "    # Exibo o resultado final da conta\n",
        "    print(\"Resultado: \", resultado)\n",
        "\n",
        "    # Pergunto se quer repetir em se quiser rechamo a função novamente senão encerro a função principal\n",
        "    outraOperacao = input(\"Deseja fazer uma nova operação? ('S' para sim ou 'qualquer tecla' para não):\")\n",
        "    # Uso um lower para garantir que sempre fique minúscula para o if validar o sensitive\n",
        "    if outraOperacao.lower() == 's':\n",
        "        calculadora(nome)\n",
        "    else:\n",
        "        return\n",
        "\n",
        "#------------------------------------------------------------------------#\n",
        "# ----------------------- Código Básico de Inicio -----------------------#\n",
        "\n",
        "def main():\n",
        "\n",
        "    print(\" ------------------------------------------------------------------\\n\")\n",
        "    print(\" ----  Bem vindo ao meu primeiro exercício prático de Phyton!  ----\")\n",
        "    print(\" ------------------------------------------------------------------\\n\")\n",
        "\n",
        "    # Capturo o nome do usuário\n",
        "    nomeDigitado = input(\"Digite seu nome completo: \")\n",
        "\n",
        "    # Splito o nome pelos espaços para poder usar o primeiro nome e validar se tem sobrenome\n",
        "    listaNome = nomeDigitado.split()\n",
        "\n",
        "    # Se nã houver nome e sobrenome eu finalizo (é possível tratar)\n",
        "    if nomeDigitado == \"\" or nomeDigitado.strip() == \"\" or len(listaNome) <= 1:\n",
        "        print(\"Você não digitou seu nome completo e por isso o programa vai encerrar!\\n\")\n",
        "        print(\"Obrigado por usar minha calculadora da turma 1C.\")\n",
        "        dataExt = datetime.today()\n",
        "        print(\"Finalizado em: \", dataExt )\n",
        "        return\n",
        "\n",
        "    # Exibo título do programa\n",
        "    print(\"Calculadora Simples\\n\")\n",
        "    # Em seguida chamo a função principal da calculadora e envio o nome como parâmetro\n",
        "    # pois será usado dentro da função calculadora para refrenciar o nome do usuário\n",
        "    calculadora(listaNome[0])\n",
        "\n",
        "    # Quando a função anterior for finalizada ela vem para mensagem de encerramento\n",
        "    print(listaNome[0], \"! Obrigado por usar minha calculadora da turma 1C\\n\")\n",
        "\n",
        "    # Exibo a lista que contém o histórico das operações usando um for para percorrer\n",
        "    print(\"Histórico das operações usadas:\")\n",
        "    [print(conteudo) for conteudo in historicoOperacoes]\n",
        "    print(\"-----------------------\\n\")\n",
        "\n",
        "    # Armazeno a data e hora em uma variável e exibo em seguida com uma msg\n",
        "    dataExt = datetime.today()\n",
        "    print(\"Finalizado em: \", dataExt )\n",
        "\n",
        "    # Limpo a variável por ela ser global (reforçar com a turma sobre isso)\n",
        "    historicoOperacoes.clear()\n",
        "\n",
        "    # --------------------------------- FIM --------------------------------#"
      ],
      "metadata": {
        "id": "pAV14ZYowt7e"
      },
      "execution_count": null,
      "outputs": []
    },
    {
      "cell_type": "markdown",
      "source": [
        "## **Chamada do Programa**"
      ],
      "metadata": {
        "id": "Bqyah55glvgv"
      }
    },
    {
      "cell_type": "code",
      "source": [
        "\n",
        "# Chamo o programa\n",
        "main()"
      ],
      "metadata": {
        "colab": {
          "base_uri": "https://localhost:8080/"
        },
        "id": "dF97jwholqbI",
        "outputId": "76eb0d5e-8225-4d8d-d3ce-7a998b317ac1"
      },
      "execution_count": null,
      "outputs": [
        {
          "output_type": "stream",
          "name": "stdout",
          "text": [
            " ------------------------------------------------------------------\n",
            "\n",
            " ----  Bem vindo ao meu primeiro exercício prático de Phyton!  ----\n",
            " ------------------------------------------------------------------\n",
            "\n",
            "Digite seu nome completo: Ricardo Moreira\n",
            "Calculadora Simples\n",
            "\n",
            "Operações disponíveis:\n",
            "1. Adição\n",
            "2. Subtração\n",
            "3. Multiplicação\n",
            "4. Divisão\n",
            "5. Sair do programa\n",
            "Digite o número da operação desejada: 2\n",
            "Digite o primeiro número: 5\n",
            "Digite o segundo número: 3\n",
            "Resultado:  2.0\n",
            "Deseja fazer uma nova operação? ('S' para sim ou 'qualquer tecla' para não):s\n",
            "Operações disponíveis:\n",
            "1. Adição\n",
            "2. Subtração\n",
            "3. Multiplicação\n",
            "4. Divisão\n",
            "5. Sair do programa\n",
            "Digite o número da operação desejada: 1\n",
            "Digite o primeiro número: 4\n",
            "Digite o segundo número: 4\n",
            "Resultado:  8.0\n",
            "Deseja fazer uma nova operação? ('S' para sim ou 'qualquer tecla' para não):n\n",
            "Ricardo ! Obrigado por usar minha calculadora da turma 1C\n",
            "\n",
            "Histórico das operações usadas:\n",
            "adição(4.0|4.0)=8.0\n",
            "subtração(5.0|3.0)=2.0\n",
            "-----------------------\n",
            "\n",
            "Finalizado em:  2023-08-31 14:27:19.366241\n"
          ]
        }
      ]
    }
  ]
}